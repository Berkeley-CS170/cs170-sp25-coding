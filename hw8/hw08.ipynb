{
 "cells": [
  {
   "cell_type": "markdown",
   "id": "96a9ac57-42ba-46db-b481-6fb581762d50",
   "metadata": {},
   "source": [
    "# Dynamic Programming (Part 2)\n",
    "\n",
    "In this notebook, we'll explore solving the Traveling Salesperson problem using dynamic programming."
   ]
  },
  {
   "cell_type": "markdown",
   "id": "6f64a89d-f59d-419c-82e9-4eead3c5f72b",
   "metadata": {},
   "source": [
    "### If you're using Datahub:\n",
    "* Run the cell below **and restart the kernel if needed**\n",
    "\n",
    "### If you're running locally:\n",
    "You'll need to perform some extra setup.\n",
    "#### First-time setup\n",
    "* Install Anaconda following the instructions here: https://www.anaconda.com/products/distribution \n",
    "* Create a conda environment: `conda create -n cs170 python=3.11`\n",
    "* Activate the environment: `conda activate cs170`\n",
    "    * See for more details on creating conda environments https://conda.io/projects/conda/en/latest/user-guide/tasks/manage-environments.html\n",
    "* Install pip: `conda install pip`\n",
    "* Install jupyter: `conda install jupyter`\n",
    "\n",
    "#### Every time you want to work\n",
    "* Make sure you've activated the conda environment: `conda activate cs170`\n",
    "* Launch jupyter: `jupyter notebook` or `jupyter lab` \n",
    "* Run the cell below **and restart the kernel if needed**"
   ]
  },
  {
   "cell_type": "code",
   "execution_count": null,
   "id": "0e59db9e-3e85-4fc5-a5d8-2c657a370a63",
   "metadata": {},
   "outputs": [],
   "source": [
    "# Install dependencies\n",
    "!pip install -r requirements.txt --quiet"
   ]
  },
  {
   "cell_type": "code",
   "execution_count": null,
   "id": "d261c128-7b55-4fa0-8ce8-4159f8bb0b70",
   "metadata": {},
   "outputs": [],
   "source": [
    "import otter\n",
    "assert (otter.__version__ >= \"5.5.0\"), \"Please reinstall the requirements and restart your kernel.\"\n",
    "\n",
    "grader = otter.Notebook(\"hw08.ipynb\")\n",
    "import numpy.random as random\n",
    "from networkx import Graph, draw\n",
    "import string\n",
    "import pylev\n",
    "import tqdm\n",
    "import time\n",
    "import pickle \n",
    "\n",
    "from autograder_utils import validate_tour, handle_timeout, profile\n",
    "\n",
    "test_data = pickle.load(open(\"public_data.pkl\", \"rb\"))\n",
    "\n",
    "rng_seed = 0"
   ]
  },
  {
   "cell_type": "markdown",
   "id": "ff4d8852-7e70-4c08-8587-bc0b28200ae8",
   "metadata": {
    "deletable": false,
    "editable": false
   },
   "source": [
    "## Q1: Traveling Salesperson DP\n",
    "Now, we'll implement the dynamic programming algorithm for the traveling salesperson problem (TSP). A brute force solution will be hopelessly slow even for moderate-sized test cases, but we can use dynamic programming to get a solution in slightly more reasonable (but still exponential) time. For a refresher on the TSP algorithm, see Lecture 13 or https://people.eecs.berkeley.edu/~vazirani/algorithms/chap6.pdf#page=20. \n",
    "\n",
    "As with previous problems, we want you to return the actual tour, not the cost of the tour. We can once again apply the same procedure of backtracking through our subproblem array to reconstruct this tour.\n",
    "\n",
    "### Representing Subproblems\n",
    "If we use a set as one of our subproblem parameters, we can't directly use a 2D array to store our subproblems. There are two common ways to work around this issue:\n",
    "\n",
    "#### 1. Subproblem Dictionary\n",
    "You could store subproblems in a dictionary, where the keys are tuples of the form `(S, i)`, where `i` represents the last city visited before returning home and `S` is the set of cities visited so far. \n",
    "\n",
    "To make this work, you need to ensure that the keys are hashable. One way is using Python's built-in `frozenset` class for `S`. `frozenset` is a built-in type so you can use it without any additional imports, and works just like a normal set, except that it is immutable (and hashable). You can read more about `frozenset` here: https://docs.python.org/3/library/stdtypes.html#frozenset.\n",
    "\n",
    "#### 2. Bitmasking\n",
    "Instead of a hash set, we actually *can* still use a 2D array to store subproblems, where `S` is represented as an $n$-bit unsigned integer, and the $i$-th bit of `S` would be set to 1 if and only if the $i$-th city is part of the set of visited cities. Since `S` is an integer, we can use it to index into our 2D array.\n",
    "\n",
    "The bitmasking approach tends to be about twice as fast and much more memory-efficient than the `frozenset` approach, but both approaches will pass the autograder if implemented correctly.\n",
    "\n",
    "### Implementation tip:\n",
    "As with before, storing the entire tour at each step is too memory-intensive and will cause the autograder to fail. Instead, consider maintaining a separate dictionary or array which stores a smaller amount of information but can still help you reconstruct the tour (can the \"shortest path in the DP DAG\" idea help here?).\n",
    "\n",
    "**Be careful with indexing!** The algorithm from the book assumes your cities are labeled $1, \\dots, n$ - if you are indexing into a Python list, will you need to adjust your indices?\n",
    "\n",
    "Be careful with subproblem ordering! We need to ensure that whenever we go to solve a subproblem, all of the subproblems it depends on have already been solved.\n",
    "\n",
    "The graph is not necessarily complete! If no tour is possible, return an empty list."
   ]
  },
  {
   "cell_type": "markdown",
   "id": "e93f24d0-a5dc-4660-b13a-833b8daa2606",
   "metadata": {
    "deletable": false,
    "editable": false
   },
   "source": [
    "### Graph helpers\n",
    "Like the last homeworks, we use a weighted adjacency list to represent the graph. We'll use a similar format as before, except `graph[u]` is now a hashmap instead of a list of pairs. \n",
    " **For this assignment, graphs are undirected**, so if there is an (undirected) edge between nodes `u` and `v` with weight `w`, then `graph[u]` contains key `v` with value `w` and `graph[v]` contains key `u` with value `w`.\n",
    "\n",
    "We provide the following code to help you test your implementation."
   ]
  },
  {
   "cell_type": "code",
   "execution_count": null,
   "id": "c5878677-df48-4c8f-b221-d88862105d92",
   "metadata": {
    "deletable": false,
    "editable": false
   },
   "outputs": [],
   "source": [
    "def generate_adj_list(n, edge_list: list[tuple[int]]) -> list[dict[int, int]]:\n",
    "    \"\"\"\n",
    "    args:\n",
    "        n:int = number of nodes in the graph. The nodes are labelled with integers 0 through n-1\n",
    "        edge_list:list[tuple[int,int,int]] = edge list where each tuple (u,v,w) represents the \n",
    "        undirected and weighted edge (u,v,w) in the graph\n",
    "    return:\n",
    "        A list[dict[int, int]] representing the adjacency list \n",
    "    \"\"\"\n",
    "    adj_list = [{} for _ in range(n)] \n",
    "    for u, v, w in sorted(edge_list):\n",
    "        adj_list[u][v] = w\n",
    "        # undirected edges\n",
    "        adj_list[v][u] = w\n",
    "    return adj_list\n",
    "\n",
    "def draw_graph(adj_list: list[dict[int, int]]):\n",
    "    \"\"\"Utility method for visualizing graphs\n",
    "\n",
    "    args:\n",
    "        adj_list: list[dict[int, int]] = adjacency list representation of the graph generated by generate_adj_list\n",
    "    \"\"\"\n",
    "    G = Graph()\n",
    "    for u in range(len(adj_list)):\n",
    "        for v, w in adj_list[u]:\n",
    "            G.add_edge(u, v, weight=w)\n",
    "    draw(G, with_labels=True)"
   ]
  },
  {
   "cell_type": "code",
   "execution_count": null,
   "id": "0260a25f-abeb-481d-96b7-b5a69f7b8019",
   "metadata": {
    "tags": [
     "otter_answer_cell"
    ]
   },
   "outputs": [],
   "source": [
    "def tsp_dp(adj_list):\n",
    "    \"\"\"Compute the exact solution to the TSP using dynamic programming and returns the optimal path.\n",
    "\n",
    "    Args:\n",
    "        dist_arr: Weighted undirected graph represented as an adjacency list. \n",
    "\n",
    "    Returns:\n",
    "        List[int]: A list of city indices representing the optimal path.\n",
    "    \"\"\"\n",
    "    ...\n"
   ]
  },
  {
   "cell_type": "code",
   "execution_count": null,
   "id": "397cd22f",
   "metadata": {
    "deletable": false,
    "editable": false
   },
   "outputs": [],
   "source": [
    "grader.check(\"TSP\")"
   ]
  },
  {
   "cell_type": "markdown",
   "id": "d145b608-c175-49c6-b083-c84c9adf8532",
   "metadata": {},
   "source": [
    "### Debugging\n",
    "A simplified verion of the otter tests are pasted here for your convenience. Feel free to add whatever print statements or assertions you'd like when debugging."
   ]
  },
  {
   "cell_type": "code",
   "execution_count": null,
   "id": "70d357c2-cf48-4e92-901a-c75eeee7c357",
   "metadata": {},
   "outputs": [],
   "source": [
    "# tests on very small cases\n",
    "for adj_list, expected_distance in tqdm.tqdm(test_data['TSP-1']):\n",
    "    result = tsp_dp(adj_list)\n",
    "\n",
    "    if expected_distance < 0: \n",
    "        # no tour is possible\n",
    "        assert result == [], \"You returned a tour when no tour is possible\"\n",
    "    else:\n",
    "        assert set(result) == set(range(len(adj_list))), f\"Your output does not visit all cities\"\n",
    "        student_length = validate_tour(result, adj_list)\n",
    "        assert student_length >= 0, f\"Your output is not a valid tour\"\n",
    "        assert student_length == expected_distance, f\"Your output is not a minimum distance tour\""
   ]
  },
  {
   "cell_type": "markdown",
   "id": "082fc57d",
   "metadata": {
    "deletable": false,
    "editable": false
   },
   "source": [
    "## Submission\n",
    "\n",
    "Make sure you have run all cells in your notebook in order before running the cell below, so that all images/graphs appear in the output. The cell below will generate a zip file for you to submit."
   ]
  },
  {
   "cell_type": "code",
   "execution_count": null,
   "id": "d64f80bf",
   "metadata": {
    "deletable": false,
    "editable": false
   },
   "outputs": [],
   "source": [
    "grader.export(pdf=False, force_save=True, run_tests=True)"
   ]
  },
  {
   "cell_type": "markdown",
   "id": "9c980def",
   "metadata": {},
   "source": [
    " "
   ]
  }
 ],
 "metadata": {
  "kernelspec": {
   "display_name": "Python 3 (ipykernel)",
   "language": "python",
   "name": "python3"
  },
  "language_info": {
   "codemirror_mode": {
    "name": "ipython",
    "version": 3
   },
   "file_extension": ".py",
   "mimetype": "text/x-python",
   "name": "python",
   "nbconvert_exporter": "python",
   "pygments_lexer": "ipython3",
   "version": "3.10.16"
  },
  "otter": {
   "OK_FORMAT": false,
   "assignment_name": "hw08",
   "tests": {
    "TSP": "from otter.test_files import test_case\n\nOK_FORMAT = False\n\nname = \"TSP\"\npoints = 6\n\n@test_case(points=None, hidden=False)\ndef test_q2_1(tsp_dp, test_data, pickle, tqdm):\n    from autograder_utils import validate_tour, handle_timeout\n    timeout = 300\n    with handle_timeout(timeout):\n        for (adj_list, expected_distance) in tqdm.tqdm(test_data['TSP-1']):\n            result = tsp_dp(adj_list)\n            if expected_distance < 0:\n                assert result == [], 'You returned a tour when no tour is possible'\n            else:\n                assert set(result) == set(range(len(adj_list))), f'Your output does not visit all cities'\n                student_length = validate_tour(result, adj_list)\n                assert student_length >= 0, f'Your output is not a valid tour'\n                assert student_length == expected_distance, f'Your output is not a minimum distance tour'\n    assert not hasattr(tsp_dp, '__wrapped__'), 'Do not use any decorators on your tsp_dp function.'\n\n@test_case(points=None, hidden=False)\ndef test_q2_2(tsp_dp, test_data, pickle, tqdm):\n    from autograder_utils import validate_tour, handle_timeout, profile\n    import numpy as np\n    TEST_NAME = 'TSP-2'\n    timeout_1 = 60\n    n_examples = len(test_data[TEST_NAME])\n    call_counts = []\n    runtime_fn = lambda n: n ** 2 * 2 ** n\n    with handle_timeout(timeout_1):\n        for (adj_list, expected_distance) in tqdm.tqdm(test_data[TEST_NAME][:n_examples // 4]):\n            (result, callcount) = profile(tsp_dp)(adj_list)\n            call_counts.append(callcount)\n            if expected_distance < 0:\n                assert result == [], 'You returned a tour when no tour is possible'\n            else:\n                assert set(result) == set(range(len(adj_list))), f'Your output does not visit all cities'\n                student_length = validate_tour(result, adj_list)\n                assert student_length >= 0, f'Your output is not a valid tour'\n                assert student_length == expected_distance, f'Your output is not a minimum distance tour'\n    input_sizes = [len(adj_list) for (adj_list, _) in test_data[TEST_NAME][:n_examples // 4]]\n    c = np.linalg.lstsq(runtime_fn(np.array(input_sizes)[:, None]), call_counts, rcond=None)[0][0]\n    student_margin = 2\n    timeout_2 = 450\n    with handle_timeout(timeout_2):\n        for (adj_list, expected_distance) in tqdm.tqdm(test_data[TEST_NAME][n_examples // 4:-7]):\n            try:\n                (result, callcount) = profile(tsp_dp)(adj_list)\n                assert callcount <= student_margin * c * runtime_fn(len(adj_list)), f'Your function is too slow. Make sure that your implementation is O(n^2*2^n), and that you are not performing too many extraneous computations.'\n            except Exception as e:\n                raise Exception(f'Your function threw an error (see above)') from e\n            assert set(result) == set(range(len(adj_list))), f'Your output does not visit all cities'\n            student_length = validate_tour(result, adj_list)\n            assert student_length >= 0, f'Your output is not a valid tour'\n            assert student_length == expected_distance, f'Your output is not a minimum distance tour'\n    assert not hasattr(tsp_dp, '__wrapped__'), 'Do not use any decorators on your tsp_dp function.'\n\n"
   }
  }
 },
 "nbformat": 4,
 "nbformat_minor": 5
}
